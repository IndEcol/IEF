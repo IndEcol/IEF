{
 "cells": [
  {
   "cell_type": "markdown",
   "metadata": {},
   "source": [
    "## Ecospold 2 parser"
   ]
  },
  {
   "cell_type": "code",
   "execution_count": 42,
   "metadata": {
    "collapsed": true
   },
   "outputs": [],
   "source": [
    "import xml.etree.ElementTree\n",
    "import xlrd, xlwt\n",
    "import numpy as np"
   ]
  },
  {
   "cell_type": "code",
   "execution_count": 3,
   "metadata": {
    "collapsed": false
   },
   "outputs": [
    {
     "name": "stdout",
     "output_type": "stream",
     "text": [
      "['0a36a668-a8eb-46e8-a342-4a8196d56f73', '39c4aa59-f663-4ea3-aacc-acda2f9e5482', '5476101e-f839-477c-9fb6-5200879563b8', 'c201f0e7-af66-49a3-9ad7-a55172d8aa5a', 'ec37499b-27ba-419a-b3f5-971a0b623069']\n"
     ]
    }
   ],
   "source": [
    "DataListFile        = 'C:\\\\Users\\\\spauliuk\\\\FILES\\\\Work_Archive\\\\_Data_Raw\\\\ecoinvent\\\\3.3\\\\ei_33_rawdata_parse.xlsx'\n",
    "DataListFileHandle  = xlrd.open_workbook(DataListFile)\n",
    "DataListFileSheet   = DataListFileHandle.sheet_by_name('ParseList')\n",
    "\n",
    "FileNames = [] #List of ecospold filenames\n",
    "m = 0\n",
    "while True:\n",
    "    try:\n",
    "        FileNames.append(DataListFileSheet.cell_value(m +2, 2))\n",
    "        m += 1\n",
    "    except:\n",
    "        break\n",
    "        \n",
    "print(FileNames)        "
   ]
  },
  {
   "cell_type": "code",
   "execution_count": 47,
   "metadata": {
    "collapsed": false
   },
   "outputs": [],
   "source": [
    "# Open Excel for writing\n",
    "myfont = xlwt.Font()\n",
    "myfont.bold = True\n",
    "mystyle = xlwt.XFStyle()\n",
    "mystyle.font = myfont\n",
    "Result_workbook  = xlwt.Workbook(encoding = 'ascii') \n",
    "\n",
    "for FN in FileNames:\n",
    "    File = 'C:\\\\Users\\\\spauliuk\\\\FILES\\\\Work_Archive\\\\_Data_Raw\\\\ecoinvent\\\\3.3\\\\ei33_unlinked\\\\' + FN + '.spold'\n",
    "    e = xml.etree.ElementTree.parse(File).getroot()\n",
    "    Result_worksheet = Result_workbook.add_sheet(FN[0:15]+ '...') \n",
    "    Result_worksheet.write(1, 1, label = 'Activity name', style = mystyle)  \n",
    "    Result_worksheet.write(1, 2, label = 'Activity ID', style = mystyle)  \n",
    "    Result_worksheet.write(1, 3, label = 'Activity region', style = mystyle)  \n",
    "    Result_worksheet.write(1, 4, label = 'Activity start date', style = mystyle)  \n",
    "    Result_worksheet.write(1, 5, label = 'Activity end date', style = mystyle)  \n",
    "    Result_worksheet.write(1, 6, label = 'Activity description', style = mystyle)  \n",
    "    Result_worksheet.write(4, 1, label = 'Flow data', style = mystyle)  \n",
    "    \n",
    "    Result_worksheet.write(4, 2, label = 'Good/substance', style = mystyle)  \n",
    "    Result_worksheet.write(4, 3, label = 'Good/substance ID', style = mystyle)  \n",
    "    Result_worksheet.write(4, 4, label = 'Amount', style = mystyle)  \n",
    "    Result_worksheet.write(4, 5, label = 'Unit', style = mystyle)  \n",
    "    Result_worksheet.write(4, 6, label = 'Uncertainty', style = mystyle)  \n",
    "    Result_worksheet.write(4, 7, label = 'Group', style = mystyle)  \n",
    "    Result_worksheet.write(4, 8, label = 'Direction', style = mystyle)  \n",
    "    Result_worksheet.write(4, 9, label = 'Prive level', style = mystyle)  \n",
    "    Result_worksheet.write(4, 10, label = 'Price unit', style = mystyle)  \n",
    "    m0 = 0 # iterate over flow entries\n",
    "    for child in e[0]: \n",
    "        # Check for activity description\n",
    "        if child.tag == '{http://www.EcoInvent.org/EcoSpold02}activityDescription':\n",
    "            for childx in child:\n",
    "                if childx.tag == '{http://www.EcoInvent.org/EcoSpold02}activity':\n",
    "                    Act_ID = childx.attrib['id']\n",
    "                    Result_worksheet.write(2, 2, label = Act_ID)                     \n",
    "                    for childxx in childx:\n",
    "                        if childxx.tag == '{http://www.EcoInvent.org/EcoSpold02}activityName':                    \n",
    "                            Act_Name = childxx.text\n",
    "                            Result_worksheet.write(2, 1, label = Act_Name)     \n",
    "                        if childxx.tag == '{http://www.EcoInvent.org/EcoSpold02}generalComment':                    \n",
    "                            for childxx3 in childxx:\n",
    "                                if childxx3.tag == '{http://www.EcoInvent.org/EcoSpold02}text':\n",
    "                                    if childxx3.attrib['index'] == '1':\n",
    "                                        Act_Description = childxx3.text            \n",
    "                                        Result_worksheet.write(2, 6, label = Act_Description)     \n",
    "                if childx.tag == '{http://www.EcoInvent.org/EcoSpold02}geography':\n",
    "                    for childxx2 in childx:\n",
    "                        if childxx2.tag == '{http://www.EcoInvent.org/EcoSpold02}shortname':                    \n",
    "                            Act_Region = childxx2.text                            \n",
    "                            Result_worksheet.write(2, 3, label = Act_Region)    \n",
    "                if childx.tag == '{http://www.EcoInvent.org/EcoSpold02}timePeriod':\n",
    "                    Act_startDate = childx.attrib['startDate']\n",
    "                    Act_endDate   = childx.attrib['endDate']  \n",
    "                    Result_worksheet.write(2, 4, label = Act_startDate) \n",
    "                    Result_worksheet.write(2, 5, label = Act_endDate) \n",
    "                    \n",
    "        # Check for flow data\n",
    "        if child.tag == '{http://www.EcoInvent.org/EcoSpold02}flowData':\n",
    "            rowc = 5\n",
    "            PriceLevel = None\n",
    "            Uncert     = 'None'\n",
    "            for childx in e[0][m0]: # Check for flows (exchanges)\n",
    "                TakeFlag = 0 # must be 1 if this flow is used for export (exlude parameters etc.)\n",
    "                if 'intermediateExchangeId' in childx.attrib:\n",
    "                    FlowGroup = 'Intermediate Exchange'\n",
    "                    ThisID = childx.attrib['id']\n",
    "                    TakeFlag = 1\n",
    "                if 'elementaryExchangeId' in childx.attrib:\n",
    "                    FlowGroup = 'Elementary Exchange'\n",
    "                    ThisID = childx.attrib['id']\n",
    "                    TakeFlag = 1\n",
    "                mx = 0  # iterate over attributes of flow entry\n",
    "                for childxx in childx: # iterate over all attributes of a given flow\n",
    "                    #print(childxx.tag)\n",
    "                    if  childxx.tag == '{http://www.EcoInvent.org/EcoSpold02}name': # name of flowing good/substance\n",
    "                        FlowName = childxx.text\n",
    "                    if  childxx.tag == '{http://www.EcoInvent.org/EcoSpold02}unitName': # name of unit\n",
    "                        UnitName = childxx.text\n",
    "                    if  childxx.tag == '{http://www.EcoInvent.org/EcoSpold02}inputGroup': # flow is input\n",
    "                        FlowDirection = 'Input'\n",
    "                    if  childxx.tag == '{http://www.EcoInvent.org/EcoSpold02}outputGroup': # flow is output\n",
    "                        FlowDirection = 'Output'\n",
    "                    if  childxx.tag == '{http://www.EcoInvent.org/EcoSpold02}property': # property info\n",
    "                        ThisAmount = childxx.attrib['amount']\n",
    "                        for childxxa in childxx:\n",
    "                            if childxxa.tag == '{http://www.EcoInvent.org/EcoSpold02}name':\n",
    "                                ThisName = childxxa.text\n",
    "                            if childxxa.tag == '{http://www.EcoInvent.org/EcoSpold02}unitName': \n",
    "                                ThisUnitName = childxxa.text\n",
    "                        if ThisName == 'price':\n",
    "                            PriceLevel = ThisAmount\n",
    "                            PriceUnit  = ThisUnitName\n",
    "                    if   childxx.tag == '{http://www.EcoInvent.org/EcoSpold02}uncertainty': # uncertainty info\n",
    "                        for childxxx in childxx: # children of uncertainty\n",
    "                            if childxxx.tag == '{http://www.EcoInvent.org/EcoSpold02}lognormal':\n",
    "                                #print(childxxx.attrib)\n",
    "                                Uncert = '2;' + str(childxxx.attrib['mu']) + ';' + str(np.sqrt(np.float(childxxx.attrib['varianceWithPedigreeUncertainty']))) + ';none;none;none'\n",
    "\n",
    "                            #FlowUncertainty = 'Output'                    \n",
    "                    mx += 1\n",
    "\n",
    "\n",
    "                if TakeFlag == 1:\n",
    "                    # print(FlowName,'  ', childx.attrib['amount'],'  ',UnitName,'  ',FlowGroup + ', ' + FlowDirection)  \n",
    "                    Result_worksheet.write(rowc, 2, label = FlowName)    \n",
    "                    Result_worksheet.write(rowc, 3, label = ThisID)    \n",
    "                    Result_worksheet.write(rowc, 4, label = childx.attrib['amount'])    \n",
    "                    Result_worksheet.write(rowc, 5, label = UnitName)    \n",
    "                    Result_worksheet.write(rowc, 6, label = Uncert)    \n",
    "                    Result_worksheet.write(rowc, 7, label = FlowGroup)    \n",
    "                    Result_worksheet.write(rowc, 8, label = FlowDirection)    \n",
    "                    if PriceLevel is not None:\n",
    "                        Result_worksheet.write(rowc, 9, label = PriceLevel) \n",
    "                        Result_worksheet.write(rowc, 10, label = PriceUnit) \n",
    "                    rowc +=1\n",
    "                \n",
    "                PriceLevel = None\n",
    "\n",
    "        m0 += 1    \n",
    "\n",
    "Result_workbook.save('C:\\\\Users\\\\spauliuk\\\\FILES\\\\Work_Archive\\\\_Data_Raw\\\\ecoinvent\\\\3.3\\\\ei_33_rawdata_parsed.xls')           "
   ]
  },
  {
   "cell_type": "code",
   "execution_count": null,
   "metadata": {
    "collapsed": false
   },
   "outputs": [],
   "source": []
  },
  {
   "cell_type": "code",
   "execution_count": 4,
   "metadata": {
    "collapsed": false
   },
   "outputs": [],
   "source": [
    "FN = FileNames[2]\n",
    "File = 'C:\\\\Users\\\\spauliuk\\\\FILES\\\\Work_Archive\\\\_Data_Raw\\\\ecoinvent\\\\3.3\\\\ei33_unlinked\\\\' + FN + '.spold'\n",
    "e = xml.etree.ElementTree.parse(File).getroot()"
   ]
  },
  {
   "cell_type": "code",
   "execution_count": 35,
   "metadata": {
    "collapsed": false
   },
   "outputs": [
    {
     "name": "stdout",
     "output_type": "stream",
     "text": [
      "{http://www.EcoInvent.org/EcoSpold02}intermediateExchange {'productionVolumeAmount': '4', 'casNumber': '10049-04-4', 'id': 'ceee6ba7-819c-40df-bb1f-dc9fac164173', 'intermediateExchangeId': '29fbcb1d-79ca-45df-8eec-3e51bb95979d', 'unitId': '487df68b-4994-4027-8fdc-a4dc298257b7', 'amount': '1'}\n",
      "{http://www.EcoInvent.org/EcoSpold02}intermediateExchange {'casNumber': '7647-14-5', 'intermediateExchangeId': 'edcfa83a-363a-4b2d-8d6a-612e32dfcdfc', 'unitId': '487df68b-4994-4027-8fdc-a4dc298257b7', 'amount': '0.912', 'id': 'b8903fc8-7b98-4885-aadb-ecd990a7fe51'}\n",
      "{http://www.EcoInvent.org/EcoSpold02}intermediateExchange {'intermediateExchangeId': '759b89bd-3aa6-42ad-b767-5bb9ef5d331d', 'unitId': '77ae64fa-7e74-4252-9c3b-889c1cd20bfc', 'amount': '0.333', 'id': 'a8f9baab-42bf-435e-a083-12177c584430'}\n",
      "{http://www.EcoInvent.org/EcoSpold02}intermediateExchange {'intermediateExchangeId': '3d0fe4e0-eac9-4704-b3fd-09b8594d0fbe', 'unitId': '5b972631-34e3-4db7-a615-f6931770a0cb', 'amount': '4E-10', 'id': '827004a9-e467-4cf5-9889-463097e16741'}\n",
      "{http://www.EcoInvent.org/EcoSpold02}intermediateExchange {'casNumber': '7775-09-9', 'intermediateExchangeId': '6c9cf309-10ae-4fde-8f55-d2debd3103c2', 'unitId': '487df68b-4994-4027-8fdc-a4dc298257b7', 'amount': '1.66', 'id': 'fe84c0f0-62a1-4081-b1e5-04d24cd2dc72'}\n",
      "{http://www.EcoInvent.org/EcoSpold02}intermediateExchange {'intermediateExchangeId': '9d63da75-8289-4b96-a900-67ec3bd40a16', 'unitId': '487df68b-4994-4027-8fdc-a4dc298257b7', 'amount': '1.53', 'id': 'eda5b663-ba6b-4941-b12c-19201baf67b3'}\n",
      "{http://www.EcoInvent.org/EcoSpold02}intermediateExchange {'intermediateExchangeId': '1125e767-7b5d-442e-81d6-9b0d3e1919ac', 'unitId': '980b811e-3905-4797-82a5-173f5568bc7e', 'amount': '2', 'id': '727622ef-f825-4505-beb8-0dfafd10137c'}\n",
      "{http://www.EcoInvent.org/EcoSpold02}elementaryExchange {'casNumber': '007790-93-4', 'elementaryExchangeId': '25131632-4b24-4625-8940-60d00385dad5', 'unitId': '487df68b-4994-4027-8fdc-a4dc298257b7', 'amount': '0.0625', 'id': '40cd93b2-207c-4006-9e31-129e03a0f381'}\n",
      "{http://www.EcoInvent.org/EcoSpold02}elementaryExchange {'casNumber': '000057-12-5', 'elementaryExchangeId': 'c9e29113-8f61-41bb-8bc1-b49c6f152fd9', 'unitId': '487df68b-4994-4027-8fdc-a4dc298257b7', 'amount': '0.00274', 'id': '7ee7413e-71d0-494c-9119-572b1db283cf'}\n",
      "{http://www.EcoInvent.org/EcoSpold02}elementaryExchange {'casNumber': '016887-00-6', 'elementaryExchangeId': '5e050fab-1837-4c42-b597-ed2f376f768f', 'unitId': '487df68b-4994-4027-8fdc-a4dc298257b7', 'amount': '0.0277', 'id': '0431f7d8-163c-47ab-8811-afe61cda8373'}\n",
      "{http://www.EcoInvent.org/EcoSpold02}elementaryExchange {'casNumber': '007732-18-5', 'id': 'd2bb050c-7463-4a44-bef3-4e8acc77973c', 'elementaryExchangeId': '075e433b-4be4-448e-9510-9a5029c1ce94', 'variableName': 'water_to_air_unspecified', 'unitId': 'de5b3c87-0e35-4fb0-9765-4f3ba34c99e5', 'amount': '0.01176'}\n",
      "{http://www.EcoInvent.org/EcoSpold02}elementaryExchange {'casNumber': '007732-18-5', 'id': 'be25b98b-0dcd-4deb-9ead-e176abccc7e7', 'elementaryExchangeId': '2404b41a-2eed-4e9d-8ab6-783946fdf5d6', 'variableName': 'water_to_water_unspecified', 'unitId': 'de5b3c87-0e35-4fb0-9765-4f3ba34c99e5', 'amount': '0.02424'}\n",
      "{http://www.EcoInvent.org/EcoSpold02}elementaryExchange {'casNumber': '017341-25-2', 'elementaryExchangeId': '1fc409bc-b8e7-48b2-92d5-2ced4aa7bae2', 'unitId': '487df68b-4994-4027-8fdc-a4dc298257b7', 'amount': '0.0352', 'id': '5be04bfe-718c-4024-8a03-d510df044463'}\n",
      "{http://www.EcoInvent.org/EcoSpold02}elementaryExchange {'casNumber': '014808-79-8', 'elementaryExchangeId': '37d35fd0-7f07-4b9b-92eb-de3c27050172', 'unitId': '487df68b-4994-4027-8fdc-a4dc298257b7', 'amount': '0.072', 'id': 'c5dd51d7-c002-4848-9c88-3dc0cc9a0446'}\n",
      "{http://www.EcoInvent.org/EcoSpold02}elementaryExchange {'casNumber': '014808-79-8', 'elementaryExchangeId': '826677aa-8347-4494-85da-a26fe3e1e824', 'unitId': '487df68b-4994-4027-8fdc-a4dc298257b7', 'amount': '0.003', 'id': '0ca79129-3f78-4f96-bde9-eb4f81b241a0'}\n",
      "{http://www.EcoInvent.org/EcoSpold02}elementaryExchange {'casNumber': '007732-18-5', 'id': 'e936ab35-c927-4ef1-8a2b-02f988a8d9b4', 'elementaryExchangeId': 'fc1c42ce-a759-49fa-b987-f1ec5e503db1', 'variableName': 'water_cooling_UNO_input', 'unitId': 'de5b3c87-0e35-4fb0-9765-4f3ba34c99e5', 'amount': '0.024'}\n",
      "{http://www.EcoInvent.org/EcoSpold02}elementaryExchange {'casNumber': '007732-18-5', 'id': 'e2bba601-47e2-4406-ae4b-d8394cbcfb54', 'elementaryExchangeId': '831f249e-53f2-49cf-a93c-7cee105f048e', 'variableName': 'water_UNO_input', 'unitId': 'de5b3c87-0e35-4fb0-9765-4f3ba34c99e5', 'amount': '0.012'}\n",
      "{http://www.EcoInvent.org/EcoSpold02}elementaryExchange {'casNumber': '000124-38-9', 'elementaryExchangeId': 'f9749677-9c9f-4678-ab55-c607dfdc2cb9', 'unitId': '487df68b-4994-4027-8fdc-a4dc298257b7', 'amount': '0.0402', 'id': '87698273-412a-4705-9ab5-0fe999d3e05a'}\n",
      "{http://www.EcoInvent.org/EcoSpold02}elementaryExchange {'casNumber': '007775-09-9', 'elementaryExchangeId': '21b46c65-491e-40a9-ac74-5877af997d7c', 'unitId': '487df68b-4994-4027-8fdc-a4dc298257b7', 'amount': '0.00332', 'id': 'ffaf36e0-d25f-4e48-8ee2-a4141a7c5a5c'}\n",
      "{http://www.EcoInvent.org/EcoSpold02}parameter {'variableName': 'fraction_CW_R_to_air', 'amount': '0.771', 'parameterId': 'e952df4c-1ca5-4710-9f53-be47be9191c1'}\n",
      "{http://www.EcoInvent.org/EcoSpold02}parameter {'isCalculatedAmount': 'true', 'variableName': 'fraction_CW_to_air', 'mathematicalRelation': '(0.5*fraction_CW_OT_to_air)+(0.5*fraction_CW_R_to_air)', 'amount': '0.3875', 'parameterId': 'd1efa4be-e613-43fd-9d73-e8b92b39b283'}\n",
      "{http://www.EcoInvent.org/EcoSpold02}parameter {'variableName': 'fraction_CW_OT_to_air', 'amount': '0.004', 'parameterId': '0b267c5e-0421-434c-8209-62d70a1f2f07'}\n",
      "{http://www.EcoInvent.org/EcoSpold02}parameter {'variableName': 'fraction_CW_CP_to_air', 'amount': '0.032', 'parameterId': '606c3625-2a78-4202-87a6-16f43eec86c3'}\n",
      "{http://www.EcoInvent.org/EcoSpold02}parameter {'variableName': 'fraction_PW_to_air', 'amount': '0.205', 'parameterId': 'daadf2d4-7bbb-4f69-8ab5-58df4c1685eb'}\n"
     ]
    }
   ],
   "source": [
    "#for child in e[0][1]:\n",
    "#    print(child.tag, child.attrib)"
   ]
  },
  {
   "cell_type": "code",
   "execution_count": 53,
   "metadata": {
    "collapsed": false
   },
   "outputs": [
    {
     "name": "stdout",
     "output_type": "stream",
     "text": [
      "<Element '{http://www.EcoInvent.org/EcoSpold02}activity' at 0x00000040A3945368>\n",
      "<Element '{http://www.EcoInvent.org/EcoSpold02}activityName' at 0x00000040A3945958>\n",
      "wood pellet production\n",
      "<Element '{http://www.EcoInvent.org/EcoSpold02}synonym' at 0x00000040A3945EF8>\n",
      "<Element '{http://www.EcoInvent.org/EcoSpold02}includedActivitiesStart' at 0x00000040A3945908>\n",
      "<Element '{http://www.EcoInvent.org/EcoSpold02}includedActivitiesEnd' at 0x00000040A39455E8>\n",
      "<Element '{http://www.EcoInvent.org/EcoSpold02}generalComment' at 0x00000040A39411D8>\n",
      "This dataset represent the inputs and outputs of materials and energy for wood pellets production. Pellets are produced in a wood pellets factory which uses wood residue from sawmills and woodchips as raw materials. The raw materials are firstly pre-treated and dryed, then comminuted and mixed. In the end they are pellettized, cooled and bagged. Pellets that are packed in 15 kg-bags amount to the 20% of the production. The remaining 80% are sold unpacked. The pellets produced match the caracteristics of the German standard of quality DIN-plus (certification).\n",
      "<Element '{http://www.EcoInvent.org/EcoSpold02}tag' at 0x00000040A3941A48>\n",
      "<Element '{http://www.EcoInvent.org/EcoSpold02}classification' at 0x00000040A3941818>\n",
      "<Element '{http://www.EcoInvent.org/EcoSpold02}classification' at 0x00000040A3941188>\n",
      "<Element '{http://www.EcoInvent.org/EcoSpold02}geography' at 0x00000040A3941D68>\n",
      "<Element '{http://www.EcoInvent.org/EcoSpold02}shortname' at 0x00000040A3941BD8>\n",
      "RER\n",
      "<Element '{http://www.EcoInvent.org/EcoSpold02}technology' at 0x00000040A3941A98>\n",
      "<Element '{http://www.EcoInvent.org/EcoSpold02}timePeriod' at 0x00000040A397D228>\n",
      "2011-01-01\n",
      "2012-12-31\n",
      "<Element '{http://www.EcoInvent.org/EcoSpold02}macroEconomicScenario' at 0x00000040A397DA48>\n"
     ]
    }
   ],
   "source": [
    "for child in e[0]:\n",
    "    if child.tag == '{http://www.EcoInvent.org/EcoSpold02}activityDescription':\n",
    "        for childx in child:\n",
    "            print(childx)\n",
    "            if childx.tag == '{http://www.EcoInvent.org/EcoSpold02}activity':\n",
    "                for childxx in childx:\n",
    "                    print(childxx)\n",
    "                    if childxx.tag == '{http://www.EcoInvent.org/EcoSpold02}activityName':                    \n",
    "                        print(childxx.text)\n",
    "                    if childxx.tag == '{http://www.EcoInvent.org/EcoSpold02}generalComment':                    \n",
    "                        for childxx3 in childxx:\n",
    "                            if childxx3.attrib['index'] == '1':\n",
    "                                print(childxx3.text)\n",
    "            if childx.tag == '{http://www.EcoInvent.org/EcoSpold02}geography':\n",
    "                for childxx2 in childx:\n",
    "                    print(childxx2)\n",
    "                    if childxx2.tag == '{http://www.EcoInvent.org/EcoSpold02}shortname':                    \n",
    "                        print(childxx2.text)\n",
    "            if childx.tag == '{http://www.EcoInvent.org/EcoSpold02}timePeriod':\n",
    "                print(childx.attrib['startDate'])\n",
    "                print(childx.attrib['endDate'])\n",
    "                "
   ]
  },
  {
   "cell_type": "code",
   "execution_count": 14,
   "metadata": {
    "collapsed": false
   },
   "outputs": [
    {
     "name": "stdout",
     "output_type": "stream",
     "text": [
      "<Element '{http://www.EcoInvent.org/EcoSpold02}activity' at 0x000000C4F1FAAC78>\n",
      "<Element '{http://www.EcoInvent.org/EcoSpold02}classification' at 0x000000C4F1FAA818>\n",
      "<Element '{http://www.EcoInvent.org/EcoSpold02}classification' at 0x000000C4F1FAA5E8>\n",
      "<Element '{http://www.EcoInvent.org/EcoSpold02}geography' at 0x000000C4F1FAA7C8>\n",
      "<Element '{http://www.EcoInvent.org/EcoSpold02}technology' at 0x000000C4F1FC20E8>\n",
      "<Element '{http://www.EcoInvent.org/EcoSpold02}timePeriod' at 0x000000C4F1F834A8>\n",
      "<Element '{http://www.EcoInvent.org/EcoSpold02}macroEconomicScenario' at 0x000000C4F1F83408>\n"
     ]
    }
   ],
   "source": [
    "for child in e[0]:\n",
    "    if child.tag == '{http://www.EcoInvent.org/EcoSpold02}activityDescription':\n",
    "        for childx in child:\n",
    "            print(childx)"
   ]
  },
  {
   "cell_type": "code",
   "execution_count": 16,
   "metadata": {
    "collapsed": false
   },
   "outputs": [
    {
     "name": "stdout",
     "output_type": "stream",
     "text": [
      "{http://www.EcoInvent.org/EcoSpold02}dataEntryBy\n",
      "{http://www.EcoInvent.org/EcoSpold02}dataGeneratorAndPublication\n",
      "{http://www.EcoInvent.org/EcoSpold02}fileAttributes\n"
     ]
    }
   ],
   "source": [
    "for x in child:\n",
    "    print(x.tag)\n"
   ]
  },
  {
   "cell_type": "code",
   "execution_count": 23,
   "metadata": {
    "collapsed": false
   },
   "outputs": [
    {
     "data": {
      "text/plain": [
       "<Element '{http://www.EcoInvent.org/EcoSpold02}geography' at 0x000000C4F1FAA7C8>"
      ]
     },
     "execution_count": 23,
     "metadata": {},
     "output_type": "execute_result"
    }
   ],
   "source": [
    "e[0][0][3]"
   ]
  }
 ],
 "metadata": {
  "kernelspec": {
   "display_name": "Python 3",
   "language": "python",
   "name": "python3"
  },
  "language_info": {
   "codemirror_mode": {
    "name": "ipython",
    "version": 3
   },
   "file_extension": ".py",
   "mimetype": "text/x-python",
   "name": "python",
   "nbconvert_exporter": "python",
   "pygments_lexer": "ipython3",
   "version": "3.5.3"
  }
 },
 "nbformat": 4,
 "nbformat_minor": 2
}
